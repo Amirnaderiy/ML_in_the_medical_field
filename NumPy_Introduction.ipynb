{
  "nbformat": 4,
  "nbformat_minor": 0,
  "metadata": {
    "colab": {
      "provenance": [],
      "authorship_tag": "ABX9TyPNJAKCL86QkDUYGpLBPcu+",
      "include_colab_link": true
    },
    "kernelspec": {
      "name": "python3",
      "display_name": "Python 3"
    },
    "language_info": {
      "name": "python"
    }
  },
  "cells": [
    {
      "cell_type": "markdown",
      "metadata": {
        "id": "view-in-github",
        "colab_type": "text"
      },
      "source": [
        "<a href=\"https://colab.research.google.com/github/Amirnaderiy/ML_in_the_medical_field/blob/main/NumPy_Introduction.ipynb\" target=\"_parent\"><img src=\"https://colab.research.google.com/assets/colab-badge.svg\" alt=\"Open In Colab\"/></a>"
      ]
    },
    {
      "cell_type": "markdown",
      "source": [
        "#**Introduction to NumPy**\n",
        "*Written by: Amir Reza Naderi*\n",
        "\n",
        "\n",
        "---"
      ],
      "metadata": {
        "id": "rBch7ZYaXxyJ"
      }
    },
    {
      "cell_type": "code",
      "execution_count": 2,
      "metadata": {
        "id": "4eGqYUKrXsvg"
      },
      "outputs": [],
      "source": [
        "import numpy as np"
      ]
    },
    {
      "cell_type": "markdown",
      "source": [
        "**Creating a NumPy array**\n",
        "\n"
      ],
      "metadata": {
        "id": "JwIL_q4Hv72-"
      }
    },
    {
      "cell_type": "code",
      "source": [
        "A=np.array([1,2,3])\n",
        "print (A, type (A))"
      ],
      "metadata": {
        "id": "r0Um7N-IvSbt"
      },
      "execution_count": null,
      "outputs": []
    },
    {
      "cell_type": "code",
      "source": [
        "B=np.array([[1,2,3],[4,5,6],[7,8,9]])\n",
        "print (B)"
      ],
      "metadata": {
        "id": "ikEaMh1mwJVu"
      },
      "execution_count": null,
      "outputs": []
    },
    {
      "cell_type": "code",
      "source": [
        "print (A[0])  # This prints the first element of the numpy array A, which is 1.\n",
        "print (B[0][2])  # This prints the element in the first row and third column of the numpy array B, which is 3.\n",
        "print (B[1])  # This prints the second row of the numpy array B, which is [4 5 6].\n",
        "print (A[2])  # This prints the third element of the numpy array A, which is 3.\n",
        "print (A[1:]) # This prints all elements of the numpy array A starting from the second element. \n",
        "print (B[2,:]) # his prints the third row of the numpy array B. The colon : means that we want to select all columns in the array, and 2 refers to the third row.\n",
        "print (B[:,2]) # his prints the third column of the numpy array B. The colon : means that we want to select all rows in the array, and 2 refers to the third column.\n",
        "print (B[:,1:]) #This prints all columns of the numpy array B starting from the second column. The colon : means that we want to select all rows in the array, and 1: means that we want to select columns from the second column to the end.\n"
      ],
      "metadata": {
        "id": "EK-U8uSw2aSW"
      },
      "execution_count": null,
      "outputs": []
    },
    {
      "cell_type": "code",
      "source": [
        "C=np.zeros (5)\n",
        "D= np.zeros((3,4))\n",
        "\n",
        "print (C, \"\\n\")\n",
        "print (D)"
      ],
      "metadata": {
        "id": "Gc5s792l3Mbk"
      },
      "execution_count": null,
      "outputs": []
    },
    {
      "cell_type": "code",
      "source": [
        "E=np.ones(3)\n",
        "F=np.ones((2, 7))\n",
        "\n",
        "print (E, \"\\n\")\n",
        "print (F)"
      ],
      "metadata": {
        "id": "_XaXN7Ykuo6W"
      },
      "execution_count": null,
      "outputs": []
    }
  ]
}